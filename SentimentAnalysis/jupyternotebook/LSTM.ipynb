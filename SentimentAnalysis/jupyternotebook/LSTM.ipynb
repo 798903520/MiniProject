{
 "cells": [
  {
   "cell_type": "code",
   "execution_count": 1,
   "metadata": {},
   "outputs": [
    {
     "name": "stderr",
     "output_type": "stream",
     "text": [
      "C:\\Users\\scott\\Anaconda3\\lib\\site-packages\\h5py\\__init__.py:36: FutureWarning: Conversion of the second argument of issubdtype from `float` to `np.floating` is deprecated. In future, it will be treated as `np.float64 == np.dtype(float).type`.\n",
      "  from ._conv import register_converters as _register_converters\n",
      "Using TensorFlow backend.\n"
     ]
    }
   ],
   "source": [
    "import os\n",
    "os.environ['TF_CPP_MIN_LOG_LEVEL'] = '2'\n",
    "from keras.models import Sequential\n",
    "from keras.layers import Dense, Activation, Dropout, LSTM, Bidirectional\n",
    "from keras.layers.convolutional import MaxPooling1D, Conv1D\n",
    "from keras.callbacks import EarlyStopping\n",
    "from keras.models import load_model\n",
    "import numpy as np\n",
    "import pandas as pd\n",
    "# import for ROC\n",
    "import functools\n",
    "from keras import backend as K\n",
    "import tensorflow as tf\n",
    "# import my file\n",
    "import Doc2Vec"
   ]
  },
  {
   "cell_type": "markdown",
   "metadata": {},
   "source": [
    "#  warp tensorflow metrics to keras （ROC）"
   ]
  },
  {
   "cell_type": "code",
   "execution_count": 2,
   "metadata": {},
   "outputs": [],
   "source": [
    "# warp tensorflow metrics to keras\n",
    "# i.e. ROC\n",
    "def as_keras_metric(method):\n",
    "    @functools.wraps(method)\n",
    "    def wrapper(self, args, **kwargs):\n",
    "        \"\"\" Wrapper for turning tensorflow metrics into keras metrics \"\"\"\n",
    "        value, update_op = method(self, args, **kwargs)\n",
    "        K.get_session().run(tf.local_variables_initializer())\n",
    "        with tf.control_dependencies([update_op]):\n",
    "            value = tf.identity(value)\n",
    "        return value\n",
    "    return wrapper"
   ]
  },
  {
   "cell_type": "markdown",
   "metadata": {},
   "source": [
    "# build LSTM model"
   ]
  },
  {
   "cell_type": "markdown",
   "metadata": {},
   "source": [
    "## 4 Convolutional layer, 1 LSTM layer, 1 dense, using dropout and MaxPooling"
   ]
  },
  {
   "cell_type": "code",
   "execution_count": 3,
   "metadata": {},
   "outputs": [],
   "source": [
    "def MyLSTM():\n",
    "    # how many words count?\n",
    "    feature = 700\n",
    "    # size of each word\n",
    "    vec_size = 300\n",
    "    # use ROC\n",
    "    auc_roc = as_keras_metric(tf.metrics.auc)\n",
    "    # model\n",
    "    model = Sequential()\n",
    "    # add conv1D layer\n",
    "    model.add(Conv1D(filters=32, kernel_size=3, padding='same',\n",
    "                     activation='relu', input_shape=(feature, vec_size)))\n",
    "    model.add(Dropout(0.2))\n",
    "    model.add(MaxPooling1D(pool_size=3))\n",
    "    model.add(Dropout(0.2))\n",
    "    # add conv1D layer\n",
    "    model.add(Conv1D(filters=32, kernel_size=3,\n",
    "                     padding='same', activation='relu'))\n",
    "    model.add(Dropout(0.2))\n",
    "    model.add(MaxPooling1D(pool_size=3))\n",
    "    model.add(Dropout(0.2))\n",
    "    # add conv1D layer\n",
    "    model.add(Conv1D(filters=32, kernel_size=3,\n",
    "                     padding='same', activation='relu'))\n",
    "    model.add(Dropout(0.2))\n",
    "    model.add(MaxPooling1D(pool_size=3))\n",
    "    model.add(Dropout(0.2))\n",
    "    # add conv1D layer\n",
    "    model.add(Conv1D(filters=32, kernel_size=3,\n",
    "                     padding='same', activation='relu'))\n",
    "    model.add(Dropout(0.2))\n",
    "    model.add(MaxPooling1D(pool_size=3))\n",
    "    model.add(Dropout(0.2))\n",
    "    # add LSTM layer\n",
    "    model.add(LSTM(300, dropout=0.2, recurrent_dropout=0.2))\n",
    "    # model.add(Dropout(0.2))\n",
    "    model.add(Dense(1))\n",
    "    model.add(Activation('sigmoid'))\n",
    "    model.compile(loss='binary_crossentropy',\n",
    "                  optimizer='adam', metrics=[auc_roc])\n",
    "    # model complete\n",
    "    print(model.summary())\n",
    "    return model"
   ]
  },
  {
   "cell_type": "markdown",
   "metadata": {},
   "source": [
    "## init model "
   ]
  },
  {
   "cell_type": "code",
   "execution_count": 4,
   "metadata": {
    "scrolled": true
   },
   "outputs": [
    {
     "name": "stdout",
     "output_type": "stream",
     "text": [
      "_________________________________________________________________\n",
      "Layer (type)                 Output Shape              Param #   \n",
      "=================================================================\n",
      "conv1d_1 (Conv1D)            (None, 700, 32)           28832     \n",
      "_________________________________________________________________\n",
      "dropout_1 (Dropout)          (None, 700, 32)           0         \n",
      "_________________________________________________________________\n",
      "max_pooling1d_1 (MaxPooling1 (None, 233, 32)           0         \n",
      "_________________________________________________________________\n",
      "dropout_2 (Dropout)          (None, 233, 32)           0         \n",
      "_________________________________________________________________\n",
      "conv1d_2 (Conv1D)            (None, 233, 32)           3104      \n",
      "_________________________________________________________________\n",
      "dropout_3 (Dropout)          (None, 233, 32)           0         \n",
      "_________________________________________________________________\n",
      "max_pooling1d_2 (MaxPooling1 (None, 77, 32)            0         \n",
      "_________________________________________________________________\n",
      "dropout_4 (Dropout)          (None, 77, 32)            0         \n",
      "_________________________________________________________________\n",
      "conv1d_3 (Conv1D)            (None, 77, 32)            3104      \n",
      "_________________________________________________________________\n",
      "dropout_5 (Dropout)          (None, 77, 32)            0         \n",
      "_________________________________________________________________\n",
      "max_pooling1d_3 (MaxPooling1 (None, 25, 32)            0         \n",
      "_________________________________________________________________\n",
      "dropout_6 (Dropout)          (None, 25, 32)            0         \n",
      "_________________________________________________________________\n",
      "conv1d_4 (Conv1D)            (None, 25, 32)            3104      \n",
      "_________________________________________________________________\n",
      "dropout_7 (Dropout)          (None, 25, 32)            0         \n",
      "_________________________________________________________________\n",
      "max_pooling1d_4 (MaxPooling1 (None, 8, 32)             0         \n",
      "_________________________________________________________________\n",
      "dropout_8 (Dropout)          (None, 8, 32)             0         \n",
      "_________________________________________________________________\n",
      "lstm_1 (LSTM)                (None, 300)               399600    \n",
      "_________________________________________________________________\n",
      "dense_1 (Dense)              (None, 1)                 301       \n",
      "_________________________________________________________________\n",
      "activation_1 (Activation)    (None, 1)                 0         \n",
      "=================================================================\n",
      "Total params: 438,045\n",
      "Trainable params: 438,045\n",
      "Non-trainable params: 0\n",
      "_________________________________________________________________\n",
      "None\n"
     ]
    }
   ],
   "source": [
    "# get model\n",
    "model = MyLSTM()"
   ]
  },
  {
   "cell_type": "markdown",
   "metadata": {},
   "source": [
    "# load data, each document has 1000 words with 128 dimension array"
   ]
  },
  {
   "cell_type": "code",
   "execution_count": 5,
   "metadata": {},
   "outputs": [
    {
     "name": "stdout",
     "output_type": "stream",
     "text": [
      "load train data success!\n",
      "Train on 20000 samples, validate on 5000 samples\n",
      "Epoch 1/10\n",
      "20000/20000 [==============================] - 123s 6ms/step - loss: 0.4671 - auc: 0.6734 - val_loss: 0.4434 - val_auc: 0.8546\n",
      "Epoch 2/10\n",
      "20000/20000 [==============================] - 117s 6ms/step - loss: 0.2944 - auc: 0.8904 - val_loss: 0.3814 - val_auc: 0.9094\n",
      "Epoch 3/10\n",
      "20000/20000 [==============================] - 117s 6ms/step - loss: 0.2727 - auc: 0.9193 - val_loss: 0.3289 - val_auc: 0.9267\n",
      "Epoch 4/10\n",
      "20000/20000 [==============================] - 121s 6ms/step - loss: 0.2578 - auc: 0.9318 - val_loss: 0.3857 - val_auc: 0.9355\n",
      "Epoch 5/10\n",
      "20000/20000 [==============================] - 121s 6ms/step - loss: 0.2395 - auc: 0.9389 - val_loss: 0.3296 - val_auc: 0.9415\n",
      "Epoch 6/10\n",
      "20000/20000 [==============================] - 121s 6ms/step - loss: 0.2271 - auc: 0.9441 - val_loss: 0.4575 - val_auc: 0.9454\n",
      "Epoch 7/10\n",
      "20000/20000 [==============================] - 119s 6ms/step - loss: 0.2136 - auc: 0.9469 - val_loss: 0.2717 - val_auc: 0.9489\n",
      "Epoch 8/10\n",
      "20000/20000 [==============================] - 115s 6ms/step - loss: 0.2066 - auc: 0.9509 - val_loss: 0.2981 - val_auc: 0.9523\n",
      "Epoch 9/10\n",
      "20000/20000 [==============================] - 114s 6ms/step - loss: 0.2046 - auc: 0.9538 - val_loss: 0.3271 - val_auc: 0.9548\n",
      "Epoch 10/10\n",
      "20000/20000 [==============================] - 110s 5ms/step - loss: 0.1885 - auc: 0.9560 - val_loss: 0.3939 - val_auc: 0.9568\n"
     ]
    }
   ],
   "source": [
    "# fit train data\n",
    "trainData, trainLabel = Doc2Vec.LoadDataTrain()\n",
    "# model.fit(trainData, trainLabel, validation_split=0.20,\n",
    "#           epochs=10, batch_size=64, callbacks=[EarlyStopping(patience=2)])\n",
    "model.fit(trainData, trainLabel, validation_split=0.2, epochs=10, batch_size=64)\n",
    "# save model\n",
    "model.save('./Persistence/model.h5')"
   ]
  },
  {
   "cell_type": "markdown",
   "metadata": {},
   "source": [
    "# predict X_test"
   ]
  },
  {
   "cell_type": "code",
   "execution_count": 6,
   "metadata": {},
   "outputs": [
    {
     "name": "stdout",
     "output_type": "stream",
     "text": [
      "load test data success!\n"
     ]
    }
   ],
   "source": [
    "# model = load_model('./RNN/model.h5')\n",
    "X_test = Doc2Vec.LoadDataTest()\n",
    "Y_test = model.predict(X_test)\n",
    "# print(Y_test)\n",
    "# save result\n",
    "# Doc2Vec.SaveResult(Y_test)"
   ]
  },
  {
   "cell_type": "markdown",
   "metadata": {},
   "source": [
    "# Final Score"
   ]
  },
  {
   "cell_type": "markdown",
   "metadata": {},
   "source": [
    "<img  src=http://wx1.sinaimg.cn/mw690/0060lm7Tly1fsprl505i9j30vs04kq2y.jpg >"
   ]
  },
  {
   "cell_type": "markdown",
   "metadata": {},
   "source": [
    "get 0.97198 on kaggle"
   ]
  }
 ],
 "metadata": {
  "kernelspec": {
   "display_name": "Python 3",
   "language": "python",
   "name": "python3"
  },
  "language_info": {
   "codemirror_mode": {
    "name": "ipython",
    "version": 3
   },
   "file_extension": ".py",
   "mimetype": "text/x-python",
   "name": "python",
   "nbconvert_exporter": "python",
   "pygments_lexer": "ipython3",
   "version": "3.6.4"
  },
  "toc": {
   "base_numbering": 1,
   "nav_menu": {},
   "number_sections": true,
   "sideBar": true,
   "skip_h1_title": false,
   "title_cell": "Table of Contents",
   "title_sidebar": "Contents",
   "toc_cell": false,
   "toc_position": {},
   "toc_section_display": true,
   "toc_window_display": true
  }
 },
 "nbformat": 4,
 "nbformat_minor": 2
}
